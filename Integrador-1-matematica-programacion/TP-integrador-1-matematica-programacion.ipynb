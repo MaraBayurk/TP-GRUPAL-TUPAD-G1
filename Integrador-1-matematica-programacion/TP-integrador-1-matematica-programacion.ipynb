{
 "cells": [
  {
   "cell_type": "markdown",
   "metadata": {},
   "source": [
    "Trabajo práctico integrador - Matematica y Programación"
   ]
  },
  {
   "cell_type": "markdown",
   "metadata": {},
   "source": [
    "El ejercicio fue resuelto utlizando estructuras repetitivas"
   ]
  },
  {
   "cell_type": "code",
   "execution_count": null,
   "metadata": {},
   "outputs": [],
   "source": [
    "opcion = 0  #incializo en 0 la variable opcion\n",
    "\n",
    "while opcion != 7: #ciclo while que se ejecuta mientras opcion sea distinto de 7\n",
    "    print(\"--Inicio de Simulación de Puertas Lógicas--\")    \n",
    "    print(\"1- AND\")\n",
    "    print(\"2- OR\")\n",
    "    print(\"3- NOT\")\n",
    "    print(\"4- NAND\")\n",
    "    print(\"5- NOR\")\n",
    "    print(\"6- XOR\")\n",
    "    print(\"7- Salir\")\n",
    "    \n",
    "    opcion = int(input(\"Elige una opción: \")) #opcion toma el valor que ingrese el usuario\n",
    "    if opcion > 7 or opcion <= 0:\n",
    "        print(\"Opción inválida.\")\n",
    "        break\n",
    "    \n",
    "    if opcion == 7:\n",
    "        print(\"Saliste del programa\")\n",
    "        \n",
    "    else:\n",
    "        a = int(input(\"Primer valor (0 o 1): \"))\n",
    "        b = int(input(\"Segundo valor (0 o 1): \"))\n",
    "        \n",
    "        puerta_and = a and b\n",
    "        puerta_or = a or b\n",
    "        puerta_nand = int(not(a and b))\n",
    "        puerta_nor = int(not(a or b))\n",
    "        puerta_xor = a ^ b\n",
    "        puerta_not_a = int(not a)\n",
    "        puerta_not_b = int(not b)\n",
    "        \n",
    "        if opcion == 1: # AND\n",
    "            print(\"Resultado AND:\", puerta_and)\n",
    "        elif opcion == 2: # OR\n",
    "            print(\"Resultado OR:\", puerta_or)\n",
    "        elif opcion == 3:  # NOT\n",
    "            print(\"Resultado NOT primer valor:\", puerta_not_a)\n",
    "            print(\"Resultado NOT segundo valor:\", puerta_not_b)\n",
    "        elif opcion == 4: # NAND\n",
    "            print(\"Resultado NAND:\", puerta_nand)\n",
    "        elif opcion == 5: # NOR\n",
    "            print(\"Resultado NOR:\", puerta_nor)\n",
    "        elif opcion == 6: # XOR\n",
    "            print(\"Resultado XOR:\", puerta_xor)    "
   ]
  },
  {
   "cell_type": "markdown",
   "metadata": {},
   "source": [
    "El ejercicio fue resuelto utilizando estructuras repetitivas"
   ]
  },
  {
   "cell_type": "code",
   "execution_count": null,
   "metadata": {},
   "outputs": [],
   "source": [
    "\n",
    "valor1 = int(input(\"Ingresá el primer valor (0 o 1): \"))\n",
    "valor2 = int(input(\"Ingresá el segundo valor (0 o 1): \"))\n",
    "\n",
    "\n",
    "if valor1 == 1 and valor2 == 1:\n",
    "    and_resultado = 1\n",
    "else:\n",
    "    and_resultado = 0\n",
    "\n",
    "print(\"AND:\", and_resultado)\n",
    "\n",
    "\n",
    "if valor1 == 1 or valor2 == 1:\n",
    "    or_resultado = 1\n",
    "else:\n",
    "    or_resultado = 0\n",
    "\n",
    "print(\"OR:\", or_resultado)\n",
    "\n",
    "if valor1 == 1 and valor2 == 1:\n",
    "    nand_resultado = 0\n",
    "    \n",
    "else:\n",
    "    nand_resultado = 1\n",
    "\n",
    "print(\"NAND:\", nand_resultado)\n",
    "\n",
    "\n",
    "if valor1 == 1 or valor2 == 1:\n",
    "    nor_resultado = 0\n",
    "else:\n",
    "    nor_resultado = 1\n",
    "\n",
    "print(\"NOR:\", nor_resultado)\n",
    "\n",
    "if valor1 == 1 and valor2 == 1:\n",
    "    xor_resultado = 0\n",
    "else:\n",
    "    xor_resultado = 1\n",
    "\n",
    "print(\"XOR:\", xor_resultado)\n",
    "print(\"NOT (del primer valor):\", int(not valor1))\n",
    "print(\"NOT (del segundo valor):\", int(not valor2))\n",
    "print(\"Fin de la simulación.\")"
   ]
  },
  {
   "cell_type": "markdown",
   "metadata": {},
   "source": [
    "El ejercicio propuesto para utilizar IA para refactorizar y mejorar"
   ]
  },
  {
   "cell_type": "code",
   "execution_count": null,
   "metadata": {},
   "outputs": [],
   "source": [
    "\n",
    "puertaDeingreso = input(\"Ingrese el caracter de la compuerta a analizar : AND(a), OR(o), NOT(n), NAND(na), NOR(no) o XOR(x)\")\n",
    "entrada1 = int(input(\"Ingrese el primero 1 (abierto) o 0 (cerrado), para probar compuertas\"))\n",
    "entrada2 = int(input(\"Ingrese el primero 1 (abierto) o 0 (cerrado), para probar compuertas\"))\n",
    "\n",
    "if puertaDeingreso == \"a\" or puertaDeingreso == \"A\":\n",
    "    if entrada1 == 1 and entrada2 == 1:\n",
    "        print(\"La compuerta AND esta abierta, se permite el paso\")\n",
    "    else:\n",
    "        print(\"La compuerta AND esta cerrada, no se permite el paso\")\n",
    "elif puertaDeingreso == \"o\" or puertaDeingreso == \"O\":\n",
    "    if entrada1 == 1 or entrada2 == 1:\n",
    "        print(\"La compuerta OR esta abierta, se permite el paso\")\n",
    "    else:\n",
    "        print(\"La compuerta OR esta cerrada, no se permite el paso\")\n",
    "elif puertaDeingreso == \"n\" or puertaDeingreso == \"N\":\n",
    "    print(f\"Se niegan las entradas: \", int(not entrada1), \"y\" , int(not entrada2))\n",
    "\n",
    "elif puertaDeingreso == \"na\" or puertaDeingreso == \"NA\" or puertaDeingreso == \"Na\":\n",
    "    if entrada1 == 1 and entrada2 == 1:\n",
    "        print(\"La compuerta NAND esta cerrada, no se permite el paso\")\n",
    "    else:\n",
    "        print(\"La compuerta NAND esta abierta, se permite el paso\")\n",
    "elif puertaDeingreso == \"no\" or puertaDeingreso == \"NO\" or puertaDeingreso == \"No\":\n",
    "    if entrada1 == 0 and entrada2 == 0:\n",
    "        print(\"La compuerta NOR esta abierta, se permite el paso\")\n",
    "    else:\n",
    "        print(\"La compuerta NOR esta cerrada, no se permite el paso\")\n",
    "elif puertaDeingreso == \"X\" or puertaDeingreso == \"x\":\n",
    "    if entrada1 != entrada2:\n",
    "        print(\"La compuerta XOR esta abierta, se permite el paso\")\n",
    "    else:\n",
    "        print(\"La compuerta XOR esta cerrada, no se permite el paso\")\n",
    "else:\n",
    "    print(\"Compuerta no válida. Ingrese a, o, n, na, no o x.\")\n"
   ]
  },
  {
   "cell_type": "markdown",
   "metadata": {},
   "source": [
    "Ejercicio refactorizado con IA"
   ]
  },
  {
   "cell_type": "code",
   "execution_count": null,
   "metadata": {},
   "outputs": [],
   "source": [
    "\n",
    "puertaDeingreso = input(\"Ingrese el caracter de la compuerta a analizar: AND(a), OR(o), NOT(n), NAND(na), NOR(no) o XOR(x): \").strip().lower()\n",
    "entrada1 = int(input(\"Ingrese el primer valor (1 para abierto o 0 para cerrado): \"))\n",
    "entrada2 = int(input(\"Ingrese el segundo valor (1 para abierto o 0 para cerrado): \"))\n",
    "\n",
    "# Validar que las entradas sean 0 o 1\n",
    "if entrada1 not in [0, 1] or entrada2 not in [0, 1]:\n",
    "    print(\"Error: Las entradas deben ser 0 o 1.\")\n",
    "else:\n",
    "    if puertaDeingreso == \"a\":\n",
    "        print(\"La compuerta AND está\", \"abierta, se permite el paso\" if entrada1 and entrada2 else \"cerrada, no se permite el paso\")\n",
    "    elif puertaDeingreso == \"o\":\n",
    "        print(\"La compuerta OR está\", \"abierta, se permite el paso\" if entrada1 or entrada2 else \"cerrada, no se permite el paso\")\n",
    "    elif puertaDeingreso == \"n\":\n",
    "        print(f\"Se niegan las entradas: {int(not entrada1)} y {int(not entrada2)}\")\n",
    "    elif puertaDeingreso == \"na\":\n",
    "        print(\"La compuerta NAND está\", \"abierta, se permite el paso\" if not (entrada1 and entrada2) else \"cerrada, no se permite el paso\")\n",
    "    elif puertaDeingreso == \"no\":\n",
    "        print(\"La compuerta NOR está\", \"abierta, se permite el paso\" if not (entrada1 or entrada2) else \"cerrada, no se permite el paso\")\n",
    "    elif puertaDeingreso == \"x\":\n",
    "        print(\"La compuerta XOR está\", \"abierta, se permite el paso\" if entrada1 != entrada2 else \"cerrada, no se permite el paso\")\n",
    "    else:\n",
    "        print(\"Error: Compuerta no válida. Ingrese a, o, n, na, no o x.\")"
   ]
  }
 ],
 "metadata": {
  "kernelspec": {
   "display_name": "Python 3",
   "language": "python",
   "name": "python3"
  },
  "language_info": {
   "codemirror_mode": {
    "name": "ipython",
    "version": 3
   },
   "file_extension": ".py",
   "mimetype": "text/x-python",
   "name": "python",
   "nbconvert_exporter": "python",
   "pygments_lexer": "ipython3",
   "version": "3.13.2"
  }
 },
 "nbformat": 4,
 "nbformat_minor": 2
}
